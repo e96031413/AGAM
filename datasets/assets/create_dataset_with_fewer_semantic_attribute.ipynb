{
 "cells": [
  {
   "cell_type": "markdown",
   "metadata": {},
   "source": [
    "# class attribute labels continuous - random"
   ]
  },
  {
   "cell_type": "code",
   "execution_count": 120,
   "metadata": {},
   "outputs": [],
   "source": [
    "import random\n",
    "random.seed(1)\n",
    "\n",
    "total_class = 200\n",
    "\n",
    "total_attribute = 312\n",
    "attribute_to_delete = 156   # 156, 262, 306\n",
    "remaining_attribute = total_attribute - attribute_to_delete\n",
    "\n",
    "filename = 'class_attribute_labels_continuous.txt'\n",
    "\n",
    "class_attribute_list=[]  # 200 class\n",
    "each_attribute_list=[]\n",
    "\n",
    "with open(filename) as file:\n",
    "    for i in file:\n",
    "        class_attribute_list.append(i.strip('\\n').split(' '))\n",
    "\n",
    "# print(len(class_attribute_list))     # 200 class\n",
    "# print(len(class_attribute_list[0]))  # 312 attribute for each class\n",
    "\n",
    "for i in range(0,total_class):\n",
    "    for j in range(0,attribute_to_delete):\n",
    "        class_attribute_list[i].remove(random.choice(class_attribute_list[i]))\n",
    "\n",
    "# print(len(class_attribute_list))        # 200 class\n",
    "# print(len(class_attribute_list[0]))     # delete half of the attributes, 156 remaining.\n",
    "\n",
    "new_file_name = 'class_attribute_labels_continuous_random_{}.txt'.format(remaining_attribute)\n",
    "\n",
    "with open(new_file_name, 'w') as file:\n",
    "    for k in class_attribute_list:\n",
    "        file.write(' '.join(k)+'\\n')    "
   ]
  },
  {
   "cell_type": "markdown",
   "metadata": {},
   "source": [
    "# image attribute labels - random"
   ]
  },
  {
   "cell_type": "code",
   "execution_count": 120,
   "metadata": {},
   "outputs": [],
   "source": [
    "import random\n",
    "random.seed(1)\n",
    "\n",
    "total_class = 200\n",
    "nums_of_image = 11788\n",
    "\n",
    "total_attribute = 312\n",
    "attribute_to_delete = 306   # 156, 262, 306\n",
    "remaining_attribute = total_attribute - attribute_to_delete\n",
    "\n",
    "filename = 'image_attribute_labels.txt'\n",
    "\n",
    "class_attribute_list=[]  # 200 class\n",
    "each_attribute_list=[]\n",
    "\n",
    "k=[]\n",
    "with open(filename, \"r\") as f:\n",
    "    for line in f.read().split(\"\\n\"):\n",
    "        k.append(line)\n",
    "\n",
    "n_l=[]\n",
    "i=0\n",
    "for i in range(len(k)):\n",
    "    if i % 312==0:\n",
    "        n_l.append(k[0+i:i+312:])\n",
    "        i+=312\n",
    "\n",
    "for i in range(0,nums_of_image):\n",
    "    for j in range(0,attribute_to_delete):\n",
    "        n_l[i].remove(random.choice(n_l[i]))\n",
    "\n",
    "new_file_name = 'image_attribute_labels_random_{}.txt'.format(remaining_attribute)\n",
    "\n",
    "#　https://stackoverflow.com/a/13434166/13369757\n",
    "with open(new_file_name, 'w') as file:\n",
    "    for k in n_l:\n",
    "        file.write(\"\\n\".join(map(str, k)))"
   ]
  },
  {
   "cell_type": "markdown",
   "metadata": {},
   "source": [
    "# class attribute labels continuous"
   ]
  },
  {
   "cell_type": "code",
   "execution_count": 168,
   "metadata": {},
   "outputs": [],
   "source": [
    "total_class = 200\n",
    "\n",
    "total_attribute = 312\n",
    "remaining_attribute = 6   # 156, 50 ,6\n",
    "\n",
    "filename = 'class_attribute_labels_continuous.txt'\n",
    "\n",
    "class_attribute_list=[]  # 200 class\n",
    "each_attribute_list=[]\n",
    "\n",
    "with open(filename) as file:\n",
    "    for i in file:\n",
    "        class_attribute_list.append(i.strip('\\n').split(' '))\n",
    "\n",
    "# print(len(class_attribute_list))     # 200 class\n",
    "# print(len(class_attribute_list[0]))  # 312 attribute for each class\n",
    "\n",
    "result = []\n",
    "for i in range(0,total_class):\n",
    "    result.append(class_attribute_list[i][0:remaining_attribute])\n",
    "\n",
    "# print(len(result))        # 200 class\n",
    "# print(len(result[0]))     # delete half of the attributes, 156 remaining.\n",
    "\n",
    "new_file_name = 'class_attribute_labels_continuous_first_{}_attribute.txt'.format(remaining_attribute)\n",
    "\n",
    "with open(new_file_name, 'w') as file:\n",
    "    for k in result:\n",
    "        file.write(' '.join(k)+'\\n')    "
   ]
  },
  {
   "cell_type": "markdown",
   "metadata": {},
   "source": [
    "# image attribute labels"
   ]
  },
  {
   "cell_type": "code",
   "execution_count": 170,
   "metadata": {},
   "outputs": [],
   "source": [
    "total_class = 200\n",
    "nums_of_image = 11788\n",
    "\n",
    "total_attribute = 312\n",
    "remaining_attribute = 6   # 156, 50 ,6\n",
    "\n",
    "filename = 'image_attribute_labels.txt'\n",
    "\n",
    "class_attribute_list=[]  # 200 class\n",
    "each_attribute_list=[]\n",
    "\n",
    "k=[]\n",
    "with open(filename, \"r\") as f:\n",
    "    for line in f.read().split(\"\\n\"):\n",
    "        k.append(line)\n",
    "\n",
    "n_l=[]\n",
    "i=0\n",
    "for i in range(len(k)):\n",
    "    if i % 312==0:\n",
    "        n_l.append(k[0+i:i+312:])\n",
    "        i+=312\n",
    "\n",
    "result=[]\n",
    "for i in range(0,nums_of_image):\n",
    "    result.append(n_l[i][0:remaining_attribute])\n",
    "\n",
    "new_file_name = 'image_attribute_labels_first_{}_attribute.txt'.format(remaining_attribute)\n",
    "\n",
    "#　https://stackoverflow.com/a/13434166/13369757\n",
    "with open(new_file_name, 'w') as file:\n",
    "    for k in result:\n",
    "        file.write(\"\\n\".join(map(str, k))+\"\\n\")"
   ]
  },
  {
   "cell_type": "code",
   "execution_count": null,
   "metadata": {},
   "outputs": [],
   "source": []
  }
 ],
 "metadata": {
  "kernelspec": {
   "display_name": "Python 3",
   "language": "python",
   "name": "python3"
  },
  "language_info": {
   "codemirror_mode": {
    "name": "ipython",
    "version": 3
   },
   "file_extension": ".py",
   "mimetype": "text/x-python",
   "name": "python",
   "nbconvert_exporter": "python",
   "pygments_lexer": "ipython3",
   "version": "3.6.7"
  }
 },
 "nbformat": 4,
 "nbformat_minor": 4
}
